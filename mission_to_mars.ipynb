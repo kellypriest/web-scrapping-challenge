{
 "cells": [
  {
   "cell_type": "code",
   "execution_count": 30,
   "metadata": {},
   "outputs": [],
   "source": [
    "from splinter import Browser\n",
    "from bs4 import BeautifulSoup as bs\n",
    "import time\n",
    "import pandas as pd"
   ]
  },
  {
   "cell_type": "code",
   "execution_count": 38,
   "metadata": {},
   "outputs": [],
   "source": [
    "executable_path = {'executable_path': 'chromedriver.exe'}\n",
    "browser = Browser('chrome', **executable_path, headless=False)"
   ]
  },
  {
   "cell_type": "code",
   "execution_count": 3,
   "metadata": {},
   "outputs": [],
   "source": [
    "news_url = 'https://mars.nasa.gov/news/'\n",
    "\n",
    "browser.visit(news_url)\n",
    "\n",
    "html = browser.html\n",
    "news_soup = bs(html, 'html.parser')"
   ]
  },
  {
   "cell_type": "code",
   "execution_count": 4,
   "metadata": {},
   "outputs": [
    {
     "name": "stdout",
     "output_type": "stream",
     "text": [
      "NASA's Curiosity Keeps Rolling As Team Operates Rover From Home\n"
     ]
    }
   ],
   "source": [
    "news_title = news_soup.find_all('div', class_='content_title')\n",
    "print(news_title[1].text)"
   ]
  },
  {
   "cell_type": "code",
   "execution_count": 6,
   "metadata": {},
   "outputs": [
    {
     "name": "stdout",
     "output_type": "stream",
     "text": [
      "The team has learned to meet new challenges as they work remotely on the Mars mission.\n"
     ]
    }
   ],
   "source": [
    "news_para = news_soup.find_all('div', class_='article_teaser_body')\n",
    "print(news_para[0].text)"
   ]
  },
  {
   "cell_type": "code",
   "execution_count": 9,
   "metadata": {},
   "outputs": [],
   "source": [
    "nasa_jpl_url = 'https://www.jpl.nasa.gov'\n",
    "images_url = 'https://www.jpl.nasa.gov/spaceimages/?search=&category=Mars'\n",
    "browser.visit(images_url)\n",
    "html = browser.html\n",
    "images_soup = bs(html, 'html.parser')"
   ]
  },
  {
   "cell_type": "code",
   "execution_count": 10,
   "metadata": {},
   "outputs": [
    {
     "name": "stdout",
     "output_type": "stream",
     "text": [
      "https://www.jpl.nasa.gov/spaceimages/images/wallpaper/PIA23835-640x350.jpg\n"
     ]
    }
   ],
   "source": [
    "image_path = images_soup.find_all('img')[3][\"src\"]\n",
    "image_url = nasa_jpl_url + image_path\n",
    "print(image_url)"
   ]
  },
  {
   "cell_type": "code",
   "execution_count": 12,
   "metadata": {},
   "outputs": [],
   "source": [
    "weather_url = 'https://twitter.com/marswxreport?lang=en'\n",
    "browser.visit(weather_url)\n",
    "weather_html = browser.html\n",
    "weather_soup = bs(weather_html, 'html.parser')"
   ]
  },
  {
   "cell_type": "code",
   "execution_count": 27,
   "metadata": {},
   "outputs": [
    {
     "name": "stdout",
     "output_type": "stream",
     "text": [
      "[]\n",
      "ugh\n"
     ]
    }
   ],
   "source": [
    "mars_weather = weather_soup.find_all('span', class_=\"css-901oao caa-16my406 r-1qd0xha r-a023e6 r-16dba41 r-ad9z0x r-bcqeeo r-bnwqim r-qvutc0\")\n",
    "print(mars_weather)\n",
    "print(\"ugh\")"
   ]
  },
  {
   "cell_type": "code",
   "execution_count": 28,
   "metadata": {},
   "outputs": [
    {
     "data": {
      "text/plain": [
       "<bound method BaseWebDriver.quit of <splinter.driver.webdriver.chrome.WebDriver object at 0x000001F15D782288>>"
      ]
     },
     "execution_count": 28,
     "metadata": {},
     "output_type": "execute_result"
    }
   ],
   "source": []
  },
  {
   "cell_type": "code",
   "execution_count": 32,
   "metadata": {},
   "outputs": [
    {
     "data": {
      "text/html": [
       "<div>\n",
       "<style scoped>\n",
       "    .dataframe tbody tr th:only-of-type {\n",
       "        vertical-align: middle;\n",
       "    }\n",
       "\n",
       "    .dataframe tbody tr th {\n",
       "        vertical-align: top;\n",
       "    }\n",
       "\n",
       "    .dataframe thead th {\n",
       "        text-align: right;\n",
       "    }\n",
       "</style>\n",
       "<table border=\"1\" class=\"dataframe\">\n",
       "  <thead>\n",
       "    <tr style=\"text-align: right;\">\n",
       "      <th></th>\n",
       "      <th>0</th>\n",
       "      <th>1</th>\n",
       "    </tr>\n",
       "  </thead>\n",
       "  <tbody>\n",
       "    <tr>\n",
       "      <th>0</th>\n",
       "      <td>Equatorial Diameter:</td>\n",
       "      <td>6,792 km</td>\n",
       "    </tr>\n",
       "    <tr>\n",
       "      <th>1</th>\n",
       "      <td>Polar Diameter:</td>\n",
       "      <td>6,752 km</td>\n",
       "    </tr>\n",
       "    <tr>\n",
       "      <th>2</th>\n",
       "      <td>Mass:</td>\n",
       "      <td>6.39 × 10^23 kg (0.11 Earths)</td>\n",
       "    </tr>\n",
       "    <tr>\n",
       "      <th>3</th>\n",
       "      <td>Moons:</td>\n",
       "      <td>2 (Phobos &amp; Deimos)</td>\n",
       "    </tr>\n",
       "    <tr>\n",
       "      <th>4</th>\n",
       "      <td>Orbit Distance:</td>\n",
       "      <td>227,943,824 km (1.38 AU)</td>\n",
       "    </tr>\n",
       "    <tr>\n",
       "      <th>5</th>\n",
       "      <td>Orbit Period:</td>\n",
       "      <td>687 days (1.9 years)</td>\n",
       "    </tr>\n",
       "    <tr>\n",
       "      <th>6</th>\n",
       "      <td>Surface Temperature:</td>\n",
       "      <td>-87 to -5 °C</td>\n",
       "    </tr>\n",
       "    <tr>\n",
       "      <th>7</th>\n",
       "      <td>First Record:</td>\n",
       "      <td>2nd millennium BC</td>\n",
       "    </tr>\n",
       "    <tr>\n",
       "      <th>8</th>\n",
       "      <td>Recorded By:</td>\n",
       "      <td>Egyptian astronomers</td>\n",
       "    </tr>\n",
       "  </tbody>\n",
       "</table>\n",
       "</div>"
      ],
      "text/plain": [
       "                      0                              1\n",
       "0  Equatorial Diameter:                       6,792 km\n",
       "1       Polar Diameter:                       6,752 km\n",
       "2                 Mass:  6.39 × 10^23 kg (0.11 Earths)\n",
       "3                Moons:            2 (Phobos & Deimos)\n",
       "4       Orbit Distance:       227,943,824 km (1.38 AU)\n",
       "5         Orbit Period:           687 days (1.9 years)\n",
       "6  Surface Temperature:                   -87 to -5 °C\n",
       "7         First Record:              2nd millennium BC\n",
       "8          Recorded By:           Egyptian astronomers"
      ]
     },
     "execution_count": 32,
     "metadata": {},
     "output_type": "execute_result"
    }
   ],
   "source": [
    "facts_url = 'https://space-facts.com/mars/'\n",
    "facts = pd.read_html(facts_url)\n",
    "facts_df = facts[2]\n",
    "facts_df"
   ]
  },
  {
   "cell_type": "code",
   "execution_count": 34,
   "metadata": {},
   "outputs": [
    {
     "data": {
      "text/html": [
       "<div>\n",
       "<style scoped>\n",
       "    .dataframe tbody tr th:only-of-type {\n",
       "        vertical-align: middle;\n",
       "    }\n",
       "\n",
       "    .dataframe tbody tr th {\n",
       "        vertical-align: top;\n",
       "    }\n",
       "\n",
       "    .dataframe thead th {\n",
       "        text-align: right;\n",
       "    }\n",
       "</style>\n",
       "<table border=\"1\" class=\"dataframe\">\n",
       "  <thead>\n",
       "    <tr style=\"text-align: right;\">\n",
       "      <th></th>\n",
       "      <th>Description</th>\n",
       "      <th>Value</th>\n",
       "    </tr>\n",
       "  </thead>\n",
       "  <tbody>\n",
       "    <tr>\n",
       "      <th>0</th>\n",
       "      <td>Equatorial Diameter:</td>\n",
       "      <td>6,792 km</td>\n",
       "    </tr>\n",
       "    <tr>\n",
       "      <th>1</th>\n",
       "      <td>Polar Diameter:</td>\n",
       "      <td>6,752 km</td>\n",
       "    </tr>\n",
       "    <tr>\n",
       "      <th>2</th>\n",
       "      <td>Mass:</td>\n",
       "      <td>6.39 × 10^23 kg (0.11 Earths)</td>\n",
       "    </tr>\n",
       "    <tr>\n",
       "      <th>3</th>\n",
       "      <td>Moons:</td>\n",
       "      <td>2 (Phobos &amp; Deimos)</td>\n",
       "    </tr>\n",
       "    <tr>\n",
       "      <th>4</th>\n",
       "      <td>Orbit Distance:</td>\n",
       "      <td>227,943,824 km (1.38 AU)</td>\n",
       "    </tr>\n",
       "    <tr>\n",
       "      <th>5</th>\n",
       "      <td>Orbit Period:</td>\n",
       "      <td>687 days (1.9 years)</td>\n",
       "    </tr>\n",
       "    <tr>\n",
       "      <th>6</th>\n",
       "      <td>Surface Temperature:</td>\n",
       "      <td>-87 to -5 °C</td>\n",
       "    </tr>\n",
       "    <tr>\n",
       "      <th>7</th>\n",
       "      <td>First Record:</td>\n",
       "      <td>2nd millennium BC</td>\n",
       "    </tr>\n",
       "    <tr>\n",
       "      <th>8</th>\n",
       "      <td>Recorded By:</td>\n",
       "      <td>Egyptian astronomers</td>\n",
       "    </tr>\n",
       "  </tbody>\n",
       "</table>\n",
       "</div>"
      ],
      "text/plain": [
       "            Description                          Value\n",
       "0  Equatorial Diameter:                       6,792 km\n",
       "1       Polar Diameter:                       6,752 km\n",
       "2                 Mass:  6.39 × 10^23 kg (0.11 Earths)\n",
       "3                Moons:            2 (Phobos & Deimos)\n",
       "4       Orbit Distance:       227,943,824 km (1.38 AU)\n",
       "5         Orbit Period:           687 days (1.9 years)\n",
       "6  Surface Temperature:                   -87 to -5 °C\n",
       "7         First Record:              2nd millennium BC\n",
       "8          Recorded By:           Egyptian astronomers"
      ]
     },
     "execution_count": 34,
     "metadata": {},
     "output_type": "execute_result"
    }
   ],
   "source": [
    "facts_df.columns = [\"Description\", \"Value\"]\n",
    "facts_df"
   ]
  },
  {
   "cell_type": "code",
   "execution_count": 39,
   "metadata": {},
   "outputs": [
    {
     "name": "stdout",
     "output_type": "stream",
     "text": [
      "<table border=\"1\" class=\"dataframe\">\n",
      "  <thead>\n",
      "    <tr style=\"text-align: right;\">\n",
      "      <th></th>\n",
      "      <th>Description</th>\n",
      "      <th>Value</th>\n",
      "    </tr>\n",
      "  </thead>\n",
      "  <tbody>\n",
      "    <tr>\n",
      "      <th>0</th>\n",
      "      <td>Equatorial Diameter:</td>\n",
      "      <td>6,792 km</td>\n",
      "    </tr>\n",
      "    <tr>\n",
      "      <th>1</th>\n",
      "      <td>Polar Diameter:</td>\n",
      "      <td>6,752 km</td>\n",
      "    </tr>\n",
      "    <tr>\n",
      "      <th>2</th>\n",
      "      <td>Mass:</td>\n",
      "      <td>6.39 × 10^23 kg (0.11 Earths)</td>\n",
      "    </tr>\n",
      "    <tr>\n",
      "      <th>3</th>\n",
      "      <td>Moons:</td>\n",
      "      <td>2 (Phobos &amp; Deimos)</td>\n",
      "    </tr>\n",
      "    <tr>\n",
      "      <th>4</th>\n",
      "      <td>Orbit Distance:</td>\n",
      "      <td>227,943,824 km (1.38 AU)</td>\n",
      "    </tr>\n",
      "    <tr>\n",
      "      <th>5</th>\n",
      "      <td>Orbit Period:</td>\n",
      "      <td>687 days (1.9 years)</td>\n",
      "    </tr>\n",
      "    <tr>\n",
      "      <th>6</th>\n",
      "      <td>Surface Temperature:</td>\n",
      "      <td>-87 to -5 °C</td>\n",
      "    </tr>\n",
      "    <tr>\n",
      "      <th>7</th>\n",
      "      <td>First Record:</td>\n",
      "      <td>2nd millennium BC</td>\n",
      "    </tr>\n",
      "    <tr>\n",
      "      <th>8</th>\n",
      "      <td>Recorded By:</td>\n",
      "      <td>Egyptian astronomers</td>\n",
      "    </tr>\n",
      "  </tbody>\n",
      "</table>\n"
     ]
    }
   ],
   "source": [
    "facts_html_table = facts_df.to_html()\n",
    "facts_html_table.replace('\\n', '')\n",
    "print(facts_html_table)"
   ]
  },
  {
   "cell_type": "code",
   "execution_count": 40,
   "metadata": {},
   "outputs": [],
   "source": [
    "USGS_url = 'https://astrogeology.usgs.gov'\n",
    "hemispheres_url = 'https://astrogeology.usgs.gov/search/results?q=hemisphere+enhanced&k1=target&v1=Mars'\n",
    "browser.visit(hemispheres_url)\n",
    "\n",
    "hemispheres_html = browser.html\n",
    "\n",
    "hemispheres_soup = bs(hemispheres_html, 'html.parser')"
   ]
  },
  {
   "cell_type": "code",
   "execution_count": 46,
   "metadata": {},
   "outputs": [
    {
     "name": "stdout",
     "output_type": "stream",
     "text": [
      "[{'title': 'Cerberus Hemisphere Enhanced', 'img_url': 'http://astropedia.astrogeology.usgs.gov/download/Mars/Viking/cerberus_enhanced.tif/full.jpg'}, {'title': 'Schiaparelli Hemisphere Enhanced', 'img_url': 'http://astropedia.astrogeology.usgs.gov/download/Mars/Viking/schiaparelli_enhanced.tif/full.jpg'}, {'title': 'Syrtis Major Hemisphere Enhanced', 'img_url': 'http://astropedia.astrogeology.usgs.gov/download/Mars/Viking/syrtis_major_enhanced.tif/full.jpg'}, {'title': 'Valles Marineris Hemisphere Enhanced', 'img_url': 'http://astropedia.astrogeology.usgs.gov/download/Mars/Viking/valles_marineris_enhanced.tif/full.jpg'}]\n"
     ]
    }
   ],
   "source": [
    "all_mars_hemispheres = hemispheres_soup.find('div', class_='collapsible results')\n",
    "mars_hemispheres = all_mars_hemispheres.find_all('div', class_='item')\n",
    "\n",
    "hemisphere_image_urls = []\n",
    "\n",
    "for x in mars_hemispheres:\n",
    "\n",
    "    hemisphere = x.find('div', class_=\"description\")\n",
    "    title = hemisphere.h3.text\n",
    "    \n",
    "    hemisphere_link = hemisphere.a[\"href\"]    \n",
    "    browser.visit(USGS_url + hemisphere_link)\n",
    "    \n",
    "    mh_image_html = browser.html\n",
    "    mh_image_soup = bs(mh_image_html, 'html.parser')\n",
    "    \n",
    "    mh_image_link = mh_image_soup.find('div', class_='downloads')\n",
    "    mh_image_url = mh_image_link.find('li').a['href']\n",
    "\n",
    "    image_dict = {}\n",
    "    image_dict['title'] = title\n",
    "    image_dict['img_url'] = mh_image_url\n",
    "    \n",
    "    hemisphere_image_urls.append(image_dict)\n",
    "print(hemisphere_image_urls)"
   ]
  },
  {
   "cell_type": "code",
   "execution_count": 47,
   "metadata": {},
   "outputs": [
    {
     "data": {
      "text/plain": [
       "{'news_title': [<div class=\"content_title\">Mars Now</div>,\n",
       "  <div class=\"content_title\"><a href=\"/news/8647/nasas-curiosity-keeps-rolling-as-team-operates-rover-from-home/\" target=\"_self\">NASA's Curiosity Keeps Rolling As Team Operates Rover From Home</a></div>,\n",
       "  <div class=\"content_title\"><a href=\"/news/8645/mars-helicopter-attached-to-nasas-perseverance-rover/\" target=\"_self\">Mars Helicopter Attached to NASA's Perseverance Rover</a></div>,\n",
       "  <div class=\"content_title\"><a href=\"/news/8641/nasas-perseverance-mars-rover-gets-its-wheels-and-air-brakes/\" target=\"_self\">NASA's Perseverance Mars Rover Gets Its Wheels and Air Brakes</a></div>,\n",
       "  <div class=\"content_title\"><a href=\"/news/8639/the-man-who-wanted-to-fly-on-mars/\" target=\"_self\">The Man Who Wanted to Fly on Mars</a></div>,\n",
       "  <div class=\"content_title\"><a href=\"/news/8634/109-million-names-now-aboard-nasas-perseverance-mars-rover/\" target=\"_self\">10.9 Million Names Now Aboard NASA's Perseverance Mars Rover</a></div>,\n",
       "  <div class=\"content_title\"><a href=\"/news/8631/nasas-curiosity-mars-rover-takes-a-new-selfie-before-record-climb/\" target=\"_self\">NASA's Curiosity Mars Rover Takes a New Selfie Before Record Climb</a></div>,\n",
       "  <div class=\"content_title\"><a href=\"/news/8630/nasas-mars-perseverance-rover-gets-its-sample-handling-system/\" target=\"_self\">NASA's Mars Perseverance Rover Gets Its Sample Handling System</a></div>,\n",
       "  <div class=\"content_title\"><a href=\"/news/8622/virginia-middle-school-student-earns-honor-of-naming-nasas-next-mars-rover/\" target=\"_self\">Virginia Middle School Student Earns Honor of Naming NASA's Next Mars Rover</a></div>,\n",
       "  <div class=\"content_title\"><a href=\"/news/8621/nasas-curiosity-mars-rover-snaps-its-highest-resolution-panorama-yet/\" target=\"_self\">NASA's Curiosity Mars Rover Snaps Its Highest-Resolution Panorama Yet</a></div>,\n",
       "  <div class=\"content_title\"><a href=\"/news/8619/nasa-to-reveal-name-of-its-next-mars-rover/\" target=\"_self\">NASA to Reveal Name of Its Next Mars Rover</a></div>,\n",
       "  <div class=\"content_title\"><a href=\"/news/8408/the-marco-mission-comes-to-an-end/\" target=\"_self\">The MarCO Mission Comes to an End</a></div>,\n",
       "  <div class=\"content_title\"><a href=\"/news/8613/a-year-of-surprising-science-from-nasas-insight-mars-mission/\" target=\"_self\">A Year of Surprising Science From NASA's InSight Mars Mission</a></div>,\n",
       "  <div class=\"content_title\"><a href=\"/news/8612/mars-insight-lander-to-push-on-top-of-the-mole/\" target=\"_self\">Mars InSight Lander to Push on Top of the 'Mole'</a></div>,\n",
       "  <div class=\"content_title\"><a href=\"/news/8444/common-questions-about-insights-mole/\" target=\"_self\">Common Questions about InSight's 'Mole'</a></div>,\n",
       "  <div class=\"content_title\"><a href=\"/news/8611/nasa-adds-return-sample-scientists-to-mars-2020-leadership-team/\" target=\"_self\">NASA Adds Return Sample Scientists to Mars 2020 Leadership Team</a></div>,\n",
       "  <div class=\"content_title\"><a href=\"/news/8609/nasas-mars-reconnaissance-orbiter-undergoes-memory-update/\" target=\"_self\">NASA's Mars Reconnaissance Orbiter Undergoes Memory Update</a></div>,\n",
       "  <div class=\"content_title\"><a href=\"/news/8607/nasas-mars-2020-rover-goes-coast-to-coast-to-prep-for-launch/\" target=\"_self\">NASA's Mars 2020 Rover Goes Coast-to-Coast to Prep for Launch</a></div>,\n",
       "  <div class=\"content_title\"><a href=\"/news/8606/nasa-prepares-for-moon-and-mars-with-new-addition-to-its-deep-space-network/\" target=\"_self\">NASA Prepares for Moon and Mars With New Addition to Its Deep Space Network</a></div>,\n",
       "  <div class=\"content_title\"><a href=\"/news/8603/nasa-administrator-statement-on-moon-to-mars-initiative-fy-2021-budget/\" target=\"_self\">NASA Administrator Statement on Moon to Mars Initiative, FY 2021 Budget</a></div>,\n",
       "  <div class=\"content_title\"><a href=\"/news/8601/all-about-the-laser-and-microphone-atop-mars-2020-nasas-next-rover/\" target=\"_self\">All About the Laser (and Microphone) Atop Mars 2020, NASA's Next Rover</a></div>,\n",
       "  <div class=\"content_title\"><a href=\"/news/8596/nasas-maven-explores-mars-to-understand-radio-interference-at-earth/\" target=\"_self\">NASA's MAVEN Explores Mars to Understand Radio Interference at Earth</a></div>,\n",
       "  <div class=\"content_title\"><a href=\"/news/8588/nine-finalists-chosen-in-nasas-mars-2020-rover-naming-contest/\" target=\"_self\">Nine Finalists Chosen in NASA's Mars 2020 Rover Naming Contest</a></div>,\n",
       "  <div class=\"content_title\"><a href=\"/news/8585/nasas-mars-2020-rover-closer-to-getting-its-name/\" target=\"_self\">NASA's Mars 2020 Rover Closer to Getting Its Name</a></div>,\n",
       "  <div class=\"content_title\"><a href=\"/news/8578/media-get-a-close-up-of-nasas-mars-2020-rover/\" target=\"_self\">Media Get a Close-Up of NASA's Mars 2020 Rover</a></div>,\n",
       "  <div class=\"content_title\"><a href=\"/news/8575/space-history-is-made-in-this-nasa-robot-factory/\" target=\"_self\">Space History Is Made in This NASA Robot Factory</a></div>,\n",
       "  <div class=\"content_title\"><a href=\"/news/8573/nasas-mars-2020-rover-completes-its-first-drive/\" target=\"_self\">NASA's Mars 2020 Rover Completes Its First Drive</a></div>,\n",
       "  <div class=\"content_title\"><a href=\"/news/8595/nasas-maven-maps-winds-in-the-martian-upper-atmosphere-that-mirror-the-terrain-below-and-gives-clues/\" target=\"_self\">NASA's MAVEN Maps Winds in the Martian Upper Atmosphere that Mirror the Terrain Below and Gives Clues to Martian Climate</a></div>,\n",
       "  <div class=\"content_title\"><a href=\"/news/8594/newfound-martian-aurora-actually-the-most-common-sheds-light-on-mars-changing-climate/\" target=\"_self\">Newfound Martian Aurora Actually the Most Common; Sheds Light on Mars' Changing Climate</a></div>,\n",
       "  <div class=\"content_title\"><a href=\"/news/8568/nasas-treasure-map-for-water-ice-on-mars/\" target=\"_self\">NASA's Treasure Map for Water Ice on Mars</a></div>,\n",
       "  <div class=\"content_title\"><a href=\"/news/8567/two-rovers-to-roll-on-mars-again-curiosity-and-mars-2020/\" target=\"_self\">Two Rovers to Roll on Mars Again: Curiosity and Mars 2020</a></div>,\n",
       "  <div class=\"content_title\"><a href=\"/news/8561/nasas-briefcase-size-marco-satellite-picks-up-honors/\" target=\"_self\">NASA's Briefcase-Size MarCO Satellite Picks Up Honors</a></div>,\n",
       "  <div class=\"content_title\"><a href=\"/news/8558/global-storms-on-mars-launch-dust-towers-into-the-sky/\" target=\"_self\">Global Storms on Mars Launch Dust Towers Into the Sky</a></div>,\n",
       "  <div class=\"content_title\"><a href=\"/news/8556/nasa-updates-mars-2020-mission-environmental-review/\" target=\"_self\">NASA Updates Mars 2020 Mission Environmental Review</a></div>,\n",
       "  <div class=\"content_title\"><a href=\"/news/8554/two-of-a-space-kind-apollo-12-and-mars-2020/\" target=\"_self\">Two of a Space Kind: Apollo 12 and Mars 2020</a></div>,\n",
       "  <div class=\"content_title\"><a href=\"/news/8551/mars-scientists-investigate-ancient-life-in-australia/\" target=\"_self\">Mars Scientists Investigate Ancient Life in Australia</a></div>,\n",
       "  <div class=\"content_title\"><a href=\"/news/8549/nasas-mars-2020-will-hunt-for-microscopic-fossils/\" target=\"_self\">NASA's Mars 2020 Will Hunt for Microscopic Fossils</a></div>,\n",
       "  <div class=\"content_title\"><a href=\"/news/8548/with-mars-methane-mystery-unsolved-curiosity-serves-scientists-a-new-one-oxygen/\" target=\"_self\">With Mars Methane Mystery Unsolved, Curiosity Serves Scientists a New One: Oxygen</a></div>,\n",
       "  <div class=\"content_title\"><a href=\"/news/8545/nasas-mars-2020-heads-into-the-test-chamber/\" target=\"_self\">NASA's Mars 2020 Heads Into the Test Chamber</a></div>,\n",
       "  <div class=\"content_title\"><a href=\"/news/8544/screening-soon-the-pathfinders-trains-lens-on-mars/\" target=\"_self\">Screening Soon: 'The Pathfinders' Trains Lens on Mars</a></div>,\n",
       "  <div class=\"content_title\"><a href=\"/news/8529/insights-mole-team-peers-into-the-pit/\" target=\"_self\">InSight's 'Mole' Team Peers into the Pit</a></div>,\n",
       "  <div class=\"content_title\">\n",
       "  <a href=\"/news/8622/virginia-middle-school-student-earns-honor-of-naming-nasas-next-mars-rover/\">\n",
       "  Virginia Middle School Student Earns Honor of Naming NASA's Next Mars Rover\n",
       "  </a>\n",
       "  </div>,\n",
       "  <div class=\"content_title\">\n",
       "  <a href=\"/news/8606/nasa-prepares-for-moon-and-mars-with-new-addition-to-its-deep-space-network/\">\n",
       "  NASA Prepares for Moon and Mars With New Addition to Its Deep Space Network\n",
       "  </a>\n",
       "  </div>,\n",
       "  <div class=\"content_title\">\n",
       "  <a href=\"/news/8603/nasa-administrator-statement-on-moon-to-mars-initiative-fy-2021-budget/\">\n",
       "  NASA Administrator Statement on Moon to Mars Initiative, FY 2021 Budget\n",
       "  </a>\n",
       "  </div>,\n",
       "  <div class=\"content_title\">\n",
       "  <a href=\"/news/8645/mars-helicopter-attached-to-nasas-perseverance-rover/\">\n",
       "  Mars Helicopter Attached to NASA's Perseverance Rover\n",
       "  </a>\n",
       "  </div>,\n",
       "  <div class=\"content_title\">\n",
       "  <a href=\"/news/8641/nasas-perseverance-mars-rover-gets-its-wheels-and-air-brakes/\">\n",
       "  NASA's Perseverance Mars Rover Gets Its Wheels and Air Brakes\n",
       "  </a>\n",
       "  </div>,\n",
       "  <div class=\"content_title\">\n",
       "  <a href=\"/news/8634/109-million-names-now-aboard-nasas-perseverance-mars-rover/\">\n",
       "  10.9 Million Names Now Aboard NASA's Perseverance Mars Rover\n",
       "  </a>\n",
       "  </div>,\n",
       "  <div class=\"content_title\">\n",
       "  <a href=\"/news/8622/virginia-middle-school-student-earns-honor-of-naming-nasas-next-mars-rover/\">\n",
       "  Virginia Middle School Student Earns Honor of Naming NASA's Next Mars Rover\n",
       "  </a>\n",
       "  </div>,\n",
       "  <div class=\"content_title\">\n",
       "  <a href=\"/news/8606/nasa-prepares-for-moon-and-mars-with-new-addition-to-its-deep-space-network/\">\n",
       "  NASA Prepares for Moon and Mars With New Addition to Its Deep Space Network\n",
       "  </a>\n",
       "  </div>,\n",
       "  <div class=\"content_title\">\n",
       "  <a href=\"/news/8603/nasa-administrator-statement-on-moon-to-mars-initiative-fy-2021-budget/\">\n",
       "  NASA Administrator Statement on Moon to Mars Initiative, FY 2021 Budget\n",
       "  </a>\n",
       "  </div>,\n",
       "  <div class=\"content_title\">\n",
       "  <a href=\"/news/8645/mars-helicopter-attached-to-nasas-perseverance-rover/\">\n",
       "  Mars Helicopter Attached to NASA's Perseverance Rover\n",
       "  </a>\n",
       "  </div>,\n",
       "  <div class=\"content_title\">\n",
       "  <a href=\"/news/8641/nasas-perseverance-mars-rover-gets-its-wheels-and-air-brakes/\">\n",
       "  NASA's Perseverance Mars Rover Gets Its Wheels and Air Brakes\n",
       "  </a>\n",
       "  </div>,\n",
       "  <div class=\"content_title\">\n",
       "  <a href=\"/news/8634/109-million-names-now-aboard-nasas-perseverance-mars-rover/\">\n",
       "  10.9 Million Names Now Aboard NASA's Perseverance Mars Rover\n",
       "  </a>\n",
       "  </div>],\n",
       " 'news_p': [<div class=\"article_teaser_body\">The team has learned to meet new challenges as they work remotely on the Mars mission.</div>,\n",
       "  <div class=\"article_teaser_body\">The team also fueled the rover's sky crane to get ready for this summer's history-making launch.</div>,\n",
       "  <div class=\"article_teaser_body\">After the rover was shipped from JPL to Kennedy Space Center, the team is getting closer to finalizing the spacecraft for launch later this summer.</div>,\n",
       "  <div class=\"article_teaser_body\">The Mars Helicopter is riding to the Red Planet this summer with NASA's Perseverance rover. The helicopter's chief engineer, Bob Balaram, shares the saga of how it came into being.</div>,\n",
       "  <div class=\"article_teaser_body\">As part of NASA's 'Send Your Name to Mars' campaign, they've been stenciled onto three microchips along with essays from NASA's 'Name the Rover' contest. Next stop: Mars.</div>,\n",
       "  <div class=\"article_teaser_body\">Along with capturing an image before its steepest ascent ever, the robotic explorer filmed its \"selfie stick,\" or robotic arm, in action.</div>,\n",
       "  <div class=\"article_teaser_body\">The system will be collecting and storing Martian rock and soil. Its installation marks another milestone in the march toward the July launch period.</div>,\n",
       "  <div class=\"article_teaser_body\">NASA chose a seventh-grader from Virginia as winner of the agency's \"Name the Rover\" essay contest. Alexander Mather's entry for \"Perseverance\" was voted tops among 28,000 entries. </div>,\n",
       "  <div class=\"article_teaser_body\">To go along with the stunning 1.8-billion-pixel image, a new video offers a sweeping view of the Red Planet.</div>,\n",
       "  <div class=\"article_teaser_body\">After a months-long contest among students to name NASA's newest Mars rover, the agency will reveal the winning name — and the winning student — this Thursday. </div>,\n",
       "  <div class=\"article_teaser_body\">The pair of briefcase-sized satellites made history when they sailed past Mars in 2019.</div>,\n",
       "  <div class=\"article_teaser_body\">A batch of new papers summarizes the lander's findings above and below the surface of the Red Planet.</div>,\n",
       "  <div class=\"article_teaser_body\">Engineers have a plan for pushing down on the heat probe, which has been stuck at the Martian surface for a year.</div>,\n",
       "  <div class=\"article_teaser_body\">The following Q&amp;As with members of the team answer some of the most common questions about the burrowing device, part of a science instrument called the Heat Flow and Physical Properties Package (HP3).</div>,\n",
       "  <div class=\"article_teaser_body\">The leadership council for Mars 2020 science added two new members who represent the interests of scientists destined to handle and study the first samples from Red Planet.</div>,\n",
       "  <div class=\"article_teaser_body\">Other orbiters will continue relaying data from Mars surface missions for a two-week period.</div>,\n",
       "  <div class=\"article_teaser_body\">The agency's first step in returning rocks from Mars just arrived at Kennedy Space Center. The Mars 2020 team now begins readying for a launch to the Red Planet this July.</div>,\n",
       "  <div class=\"article_teaser_body\">Robotic spacecraft will be able to communicate with the dish using radio waves and lasers.</div>,\n",
       "  <div class=\"article_teaser_body\">Jim Bridenstine addresses NASA's ambitious plans for the coming years, including Mars Sample Return.</div>,\n",
       "  <div class=\"article_teaser_body\">SuperCam is a rock-vaporizing instrument that will help scientists hunt for Mars fossils.</div>,\n",
       "  <div class=\"article_teaser_body\">NASA’s MAVEN spacecraft has discovered “layers” and “rifts” in the electrically charged part of the upper atmosphere of Mars.</div>,\n",
       "  <div class=\"article_teaser_body\">Nine finalists have been chosen in the essay contest for K-12 students across U.S. to name NASA's next Mars rover. Now you can help by voting for your favorite. </div>,\n",
       "  <div class=\"article_teaser_body\">155 students from across the U.S. have been chosen as semifinalists in NASA's essay contest to name the Mars 2020 rover, and see it launch from Cape Canaveral this July.</div>,\n",
       "  <div class=\"article_teaser_body\">The clean room at NASA's Jet Propulsion Laboratory was open to the media to see NASA's next Mars explorer before it leaves for Florida in preparation for a summertime launch.</div>,\n",
       "  <div class=\"article_teaser_body\">From rockets to rovers, JPL's Spacecraft Assembly Facility has been at the center of robotic spaceflight. Here's a closer look at what makes it so special.</div>,\n",
       "  <div class=\"article_teaser_body\">In a 10-plus-hour marathon, the rover steered, turned and drove in 3-foot (1-meter) increments over small ramps.</div>,\n",
       "  <div class=\"article_teaser_body\">Researchers have created the first map of wind circulation in the upper atmosphere of a planet besides Earth, using data from NASA’s MAVEN spacecraft that were collected during the last two years.</div>,\n",
       "  <div class=\"article_teaser_body\">A type of Martian aurora first identified by NASA’s MAVEN spacecraft in 2016 is actually the most common form of aurora occurring on the Red Planet, according to new results from the mission.</div>,\n",
       "  <div class=\"article_teaser_body\">A new study identifies frozen water just below the Martian surface, where astronauts could easily dig it up.</div>,\n",
       "  <div class=\"article_teaser_body\">They look like twins. But under the hood, the rover currently exploring the Red Planet and the one launching there this summer have distinct science tools and roles to play.</div>,\n",
       "  <div class=\"article_teaser_body\">The twin spacecraft, the first of their kind to fly into deep space, earn a Laureate from Aviation Week &amp; Space Technology.</div>,\n",
       "  <div class=\"article_teaser_body\">A Mars Dust Tower Stands Out Dust storms are common on Mars. But every decade or so, something unpredictable happens: a series of runaway storms break out, covering the entire planet in a dusty haze.</div>,\n",
       "  <div class=\"article_teaser_body\">NASA and the Department of Energy have completed a more detailed risk analysis for the Mars 2020 rover launch from Florida.</div>,\n",
       "  <div class=\"article_teaser_body\">Apollo 12 and the upcoming Mars 2020 mission may be separated by half a century, but they share several goals unique in the annals of space exploration.</div>,\n",
       "  <div class=\"article_teaser_body\">Teams with NASA's Mars 2020 and ESA's ExoMars practiced hunting for fossilized microbial life in the Australian Outback in preparation for their Red Planet missions. </div>,\n",
       "  <div class=\"article_teaser_body\">A new paper identifies a ring of minerals at the rover's landing site that are ideal for fossilizing microbial life.</div>,\n",
       "  <div class=\"article_teaser_body\">For the first time in the history of space exploration, scientists have measured the seasonal changes in the gases that fill the air directly above the surface of Gale Crater on Mars. </div>,\n",
       "  <div class=\"article_teaser_body\">In this time-lapse video taken at JPL, engineers move the Mars 2020 rover into a large vacuum chamber for testing in Mars-like environmental conditions.</div>,\n",
       "  <div class=\"article_teaser_body\">With the Mars 2020 mission ramping up, the documentary — the first of four about past JPL missions to the Red Planet to be shown at Caltech — tells a gripping backstory.</div>,\n",
       "  <div class=\"article_teaser_body\">Efforts to save the heat probe continue.</div>],\n",
       " 'featured_image_url': 'http://astropedia.astrogeology.usgs.gov/download/Mars/Viking/valles_marineris_enhanced.tif/full.jpg',\n",
       " 'mars_weather': [],\n",
       " 'fact_table': '<table border=\"1\" class=\"dataframe\">\\n  <thead>\\n    <tr style=\"text-align: right;\">\\n      <th></th>\\n      <th>Description</th>\\n      <th>Value</th>\\n    </tr>\\n  </thead>\\n  <tbody>\\n    <tr>\\n      <th>0</th>\\n      <td>Equatorial Diameter:</td>\\n      <td>6,792 km</td>\\n    </tr>\\n    <tr>\\n      <th>1</th>\\n      <td>Polar Diameter:</td>\\n      <td>6,752 km</td>\\n    </tr>\\n    <tr>\\n      <th>2</th>\\n      <td>Mass:</td>\\n      <td>6.39 × 10^23 kg (0.11 Earths)</td>\\n    </tr>\\n    <tr>\\n      <th>3</th>\\n      <td>Moons:</td>\\n      <td>2 (Phobos &amp; Deimos)</td>\\n    </tr>\\n    <tr>\\n      <th>4</th>\\n      <td>Orbit Distance:</td>\\n      <td>227,943,824 km (1.38 AU)</td>\\n    </tr>\\n    <tr>\\n      <th>5</th>\\n      <td>Orbit Period:</td>\\n      <td>687 days (1.9 years)</td>\\n    </tr>\\n    <tr>\\n      <th>6</th>\\n      <td>Surface Temperature:</td>\\n      <td>-87 to -5 °C</td>\\n    </tr>\\n    <tr>\\n      <th>7</th>\\n      <td>First Record:</td>\\n      <td>2nd millennium BC</td>\\n    </tr>\\n    <tr>\\n      <th>8</th>\\n      <td>Recorded By:</td>\\n      <td>Egyptian astronomers</td>\\n    </tr>\\n  </tbody>\\n</table>',\n",
       " 'hemisphere_images': [{'title': 'Cerberus Hemisphere Enhanced',\n",
       "   'img_url': 'http://astropedia.astrogeology.usgs.gov/download/Mars/Viking/cerberus_enhanced.tif/full.jpg'},\n",
       "  {'title': 'Schiaparelli Hemisphere Enhanced',\n",
       "   'img_url': 'http://astropedia.astrogeology.usgs.gov/download/Mars/Viking/schiaparelli_enhanced.tif/full.jpg'},\n",
       "  {'title': 'Syrtis Major Hemisphere Enhanced',\n",
       "   'img_url': 'http://astropedia.astrogeology.usgs.gov/download/Mars/Viking/syrtis_major_enhanced.tif/full.jpg'},\n",
       "  {'title': 'Valles Marineris Hemisphere Enhanced',\n",
       "   'img_url': 'http://astropedia.astrogeology.usgs.gov/download/Mars/Viking/valles_marineris_enhanced.tif/full.jpg'}]}"
      ]
     },
     "execution_count": 47,
     "metadata": {},
     "output_type": "execute_result"
    }
   ],
   "source": [
    "mars_dict = {\n",
    "        \"news_title\": news_title,\n",
    "        \"news_p\": news_para,\n",
    "        \"featured_image_url\": image_url,\n",
    "        \"mars_weather\": mars_weather,\n",
    "        \"fact_table\": str(facts_html_table),\n",
    "        \"hemisphere_images\": hemisphere_image_urls\n",
    "    }\n",
    "mars_dict"
   ]
  },
  {
   "cell_type": "code",
   "execution_count": null,
   "metadata": {},
   "outputs": [],
   "source": []
  }
 ],
 "metadata": {
  "kernelspec": {
   "display_name": "Python 3",
   "language": "python",
   "name": "python3"
  },
  "language_info": {
   "codemirror_mode": {
    "name": "ipython",
    "version": 3
   },
   "file_extension": ".py",
   "mimetype": "text/x-python",
   "name": "python",
   "nbconvert_exporter": "python",
   "pygments_lexer": "ipython3",
   "version": "3.7.5"
  }
 },
 "nbformat": 4,
 "nbformat_minor": 4
}
